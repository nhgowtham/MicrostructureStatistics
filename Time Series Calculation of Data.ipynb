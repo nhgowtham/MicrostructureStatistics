{
 "cells": [
  {
   "cell_type": "code",
   "execution_count": 1,
   "metadata": {},
   "outputs": [],
   "source": [
    "import pymks\n",
    "import numpy as np\n",
    "from PIL import Image\n",
    "from Scripts import SpatialCorrelations as corr\n",
    "import matplotlib.pyplot as plt\n",
    "import pandas as pd\n",
    "import os"
   ]
  },
  {
   "cell_type": "code",
   "execution_count": 2,
   "metadata": {},
   "outputs": [],
   "source": [
    "path = '/Users/adithyaiyer/Desktop/TimeSeries/time_000094000.dat'\n",
    "list_files = os.listdir('/Users/adithyaiyer/Desktop/TimeSeries')\n",
    "list_files.sort()\n",
    "j = 0\n",
    "for i in list_files:\n",
    "    list_files[j] = '/Users/adithyaiyer/Desktop/TimeSeries/'+i\n",
    "    j = j+1\n"
   ]
  },
  {
   "cell_type": "code",
   "execution_count": 6,
   "metadata": {},
   "outputs": [
    {
     "name": "stdout",
     "output_type": "stream",
     "text": [
      "0\n",
      "1\n",
      "2\n",
      "3\n",
      "4\n",
      "5\n",
      "6\n",
      "7\n",
      "8\n",
      "9\n",
      "10\n",
      "11\n",
      "12\n",
      "13\n",
      "14\n",
      "15\n",
      "16\n",
      "17\n",
      "18\n",
      "19\n",
      "20\n",
      "21\n",
      "22\n",
      "23\n",
      "24\n",
      "25\n",
      "26\n",
      "27\n",
      "28\n",
      "29\n",
      "30\n",
      "31\n"
     ]
    },
    {
     "data": {
      "text/plain": [
       "Text(0.5, 1.0, 'time step vs first peak r^2')"
      ]
     },
     "execution_count": 6,
     "metadata": {},
     "output_type": "execute_result"
    },
    {
     "data": {
      "image/png": "[encoded data removed]",
      "text/plain": [
       "<Figure size 432x288 with 1 Axes>"
      ]
     },
     "metadata": {},
     "output_type": "display_data"
    }
   ],
   "source": [
    "colormap = plt.cm.gist_ncar\n",
    "plt.gca().set_prop_cycle(plt.cycler('color', plt.cm.jet(np.linspace(0, 1, 16))))\n",
    "maxR2 =[]\n",
    "for i in range(0,32):\n",
    "    img_ = corr.dat_to_numpy(list_files[i*6])\n",
    "    #print(image_path[i].split('/')[-1])\n",
    "    \n",
    "    img_binary = corr.binarize_image_dat(img_)\n",
    "    img_binary = img_binary.astype(np.double)\n",
    "    cross = corr.cross_corr_from_code(img_binary)\n",
    "    r_val =corr.radialDistribution(cross)\n",
    "    maxR2.append((np.argmax(r_val))**2)\n",
    "    print(i)\n",
    "time  = []\n",
    "for i in range(0,32):\n",
    "    time.append(500*i*6)\n",
    "\n",
    "    \n",
    "plt.plot(time,maxR2)\n",
    "plt.title('time step vs first peak r^2')"
   ]
  },
  {
   "cell_type": "code",
   "execution_count": 3,
   "metadata": {},
   "outputs": [],
   "source": [
    "time  = []\n",
    "for i in range(0,66):\n",
    "    time.append(500*i*3)"
   ]
  },
  {
   "cell_type": "code",
   "execution_count": 7,
   "metadata": {},
   "outputs": [
    {
     "data": {
      "text/plain": [
       "[144,\n",
       " 361,\n",
       " 400,\n",
       " 484,\n",
       " 676,\n",
       " 961,\n",
       " 2304,\n",
       " 2809,\n",
       " 3025,\n",
       " 3025,\n",
       " 3364,\n",
       " 3364,\n",
       " 3600,\n",
       " 4225,\n",
       " 4225,\n",
       " 4900,\n",
       " 4900,\n",
       " 4900,\n",
       " 5929,\n",
       " 5929,\n",
       " 5929,\n",
       " 6241,\n",
       " 6241,\n",
       " 6241,\n",
       " 6241,\n",
       " 6241,\n",
       " 6724,\n",
       " 7056,\n",
       " 7056,\n",
       " 7056,\n",
       " 7569,\n",
       " 7921]"
      ]
     },
     "execution_count": 7,
     "metadata": {},
     "output_type": "execute_result"
    }
   ],
   "source": [
    "maxR2\n"
   ]
  },
  {
   "cell_type": "code",
   "execution_count": null,
   "metadata": {},
   "outputs": [],
   "source": []
  },
  {
   "cell_type": "code",
   "execution_count": null,
   "metadata": {},
   "outputs": [],
   "source": []
  }
 ],
 "metadata": {
  "kernelspec": {
   "display_name": "Python [conda env:ddp] *",
   "language": "python",
   "name": "conda-env-ddp-py"
  },
  "language_info": {
   "codemirror_mode": {
    "name": "ipython",
    "version": 3
   },
   "file_extension": ".py",
   "mimetype": "text/x-python",
   "name": "python",
   "nbconvert_exporter": "python",
   "pygments_lexer": "ipython3",
   "version": "3.6.10"
  }
 },
 "nbformat": 4,
 "nbformat_minor": 4
}
