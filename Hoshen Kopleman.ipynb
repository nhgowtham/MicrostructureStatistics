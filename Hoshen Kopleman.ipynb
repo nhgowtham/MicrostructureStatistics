{
 "cells": [
  {
   "cell_type": "code",
   "execution_count": 3,
   "metadata": {},
   "outputs": [],
   "source": [
    "import numpy as np\n",
    "import matplotlib.pyplot as plt\n",
    "import pymks\n",
    "import numpy as np\n",
    "from PIL import Image\n",
    "from Scripts import SpatialCorrelations as corr\n",
    "import matplotlib.pyplot as plt\n",
    "import pandas as pd\n",
    "import os\n",
    "from Scripts import velocityCalculations as vel\n",
    "from Scripts import hoshenKopleman as hosh"
   ]
  },
  {
   "cell_type": "code",
   "execution_count": 4,
   "metadata": {},
   "outputs": [
    {
     "ename": "TypeError",
     "evalue": "'numpy.float64' object cannot be interpreted as an integer",
     "output_type": "error",
     "traceback": [
      "\u001b[0;31m---------------------------------------------------------------------------\u001b[0m",
      "\u001b[0;31mTypeError\u001b[0m                                 Traceback (most recent call last)",
      "\u001b[0;32m<ipython-input-4-5525e47743f2>\u001b[0m in \u001b[0;36m<module>\u001b[0;34m\u001b[0m\n\u001b[1;32m      7\u001b[0m         \u001b[0mlist_files\u001b[0m\u001b[0;34m.\u001b[0m\u001b[0mappend\u001b[0m\u001b[0;34m(\u001b[0m\u001b[0mpath\u001b[0m\u001b[0;34m+\u001b[0m\u001b[0mi\u001b[0m\u001b[0;34m)\u001b[0m\u001b[0;34m\u001b[0m\u001b[0;34m\u001b[0m\u001b[0m\n\u001b[1;32m      8\u001b[0m \u001b[0;34m\u001b[0m\u001b[0m\n\u001b[0;32m----> 9\u001b[0;31m \u001b[0mimg_\u001b[0m \u001b[0;34m=\u001b[0m \u001b[0mcorr\u001b[0m\u001b[0;34m.\u001b[0m\u001b[0mdat_to_numpy\u001b[0m\u001b[0;34m(\u001b[0m\u001b[0mlist_files\u001b[0m\u001b[0;34m[\u001b[0m\u001b[0;36m999\u001b[0m\u001b[0;34m]\u001b[0m\u001b[0;34m)\u001b[0m\u001b[0;34m\u001b[0m\u001b[0;34m\u001b[0m\u001b[0m\n\u001b[0m\u001b[1;32m     10\u001b[0m \u001b[0mimg_\u001b[0m \u001b[0;34m=\u001b[0m \u001b[0mvel\u001b[0m\u001b[0;34m.\u001b[0m\u001b[0mgaussian_filter\u001b[0m\u001b[0;34m(\u001b[0m\u001b[0mimg_\u001b[0m\u001b[0;34m,\u001b[0m\u001b[0;36m4\u001b[0m\u001b[0;34m)\u001b[0m\u001b[0;34m\u001b[0m\u001b[0;34m\u001b[0m\u001b[0m\n\u001b[1;32m     11\u001b[0m \u001b[0mimg_\u001b[0m \u001b[0;34m=\u001b[0m \u001b[0;34m(\u001b[0m\u001b[0mimg_\u001b[0m\u001b[0;34m>\u001b[0m\u001b[0;36m0.5\u001b[0m\u001b[0;34m)\u001b[0m\u001b[0;34m*\u001b[0m\u001b[0;36m1\u001b[0m\u001b[0;34m\u001b[0m\u001b[0;34m\u001b[0m\u001b[0m\n",
      "\u001b[0;32m~/Desktop/adithya/code/MicrostructureStatistics/Scripts/SpatialCorrelations.py\u001b[0m in \u001b[0;36mdat_to_numpy\u001b[0;34m(image_path)\u001b[0m\n\u001b[1;32m     19\u001b[0m     \u001b[0mrow_img\u001b[0m \u001b[0;34m=\u001b[0m\u001b[0mnp\u001b[0m\u001b[0;34m.\u001b[0m\u001b[0mmax\u001b[0m\u001b[0;34m(\u001b[0m\u001b[0ma\u001b[0m\u001b[0;34m[\u001b[0m\u001b[0;36m0\u001b[0m\u001b[0;34m]\u001b[0m\u001b[0;34m)\u001b[0m\u001b[0;34m+\u001b[0m\u001b[0;36m1\u001b[0m\u001b[0;34m\u001b[0m\u001b[0;34m\u001b[0m\u001b[0m\n\u001b[1;32m     20\u001b[0m     \u001b[0mcolumn_img\u001b[0m \u001b[0;34m=\u001b[0m \u001b[0mnp\u001b[0m\u001b[0;34m.\u001b[0m\u001b[0mmax\u001b[0m\u001b[0;34m(\u001b[0m\u001b[0ma\u001b[0m\u001b[0;34m[\u001b[0m\u001b[0;36m1\u001b[0m\u001b[0;34m]\u001b[0m\u001b[0;34m)\u001b[0m\u001b[0;34m+\u001b[0m\u001b[0;36m1\u001b[0m\u001b[0;34m\u001b[0m\u001b[0;34m\u001b[0m\u001b[0m\n\u001b[0;32m---> 21\u001b[0;31m     \u001b[0mimg\u001b[0m \u001b[0;34m=\u001b[0m \u001b[0mnp\u001b[0m\u001b[0;34m.\u001b[0m\u001b[0mzeros\u001b[0m\u001b[0;34m(\u001b[0m\u001b[0;34m(\u001b[0m\u001b[0mrow_img\u001b[0m\u001b[0;34m,\u001b[0m\u001b[0mcolumn_img\u001b[0m\u001b[0;34m)\u001b[0m\u001b[0;34m)\u001b[0m\u001b[0;34m\u001b[0m\u001b[0;34m\u001b[0m\u001b[0m\n\u001b[0m\u001b[1;32m     22\u001b[0m     \u001b[0ma_numpy\u001b[0m \u001b[0;34m=\u001b[0m \u001b[0ma\u001b[0m\u001b[0;34m.\u001b[0m\u001b[0mto_numpy\u001b[0m\u001b[0;34m(\u001b[0m\u001b[0;34m)\u001b[0m\u001b[0;34m\u001b[0m\u001b[0;34m\u001b[0m\u001b[0m\n\u001b[1;32m     23\u001b[0m     \u001b[0;32mfor\u001b[0m \u001b[0mi\u001b[0m \u001b[0;32min\u001b[0m \u001b[0mrange\u001b[0m\u001b[0;34m(\u001b[0m\u001b[0ma_numpy\u001b[0m\u001b[0;34m.\u001b[0m\u001b[0mshape\u001b[0m\u001b[0;34m[\u001b[0m\u001b[0;36m0\u001b[0m\u001b[0;34m]\u001b[0m\u001b[0;34m)\u001b[0m\u001b[0;34m:\u001b[0m\u001b[0;34m\u001b[0m\u001b[0;34m\u001b[0m\u001b[0m\n",
      "\u001b[0;31mTypeError\u001b[0m: 'numpy.float64' object cannot be interpreted as an integer"
     ]
    }
   ],
   "source": [
    "path = '/home/sushil/Desktop/AC/output/'\n",
    "list_of_files = os.listdir(path)\n",
    "list_of_files.sort()\n",
    "list_files = []\n",
    "for i in list_of_files:\n",
    "    if i[-5:]=='0.dat':\n",
    "        list_files.append(path+i)\n",
    "    \n",
    "img_ = corr.dat_to_numpy(list_files[999])\n",
    "img_ = vel.gaussian_filter(img_,4)\n",
    "img_ = (img_>0.5)*1\n",
    "\n",
    "plt.imshow(img_)\n",
    "plt.colorbar()\n",
    "plt.title('Original Binary image')\n",
    "plt.show()\n",
    "print(np.sum(img_))\n",
    "\n"
   ]
  },
  {
   "cell_type": "code",
   "execution_count": 33,
   "metadata": {},
   "outputs": [
    {
     "data": {
      "text/plain": [
       "2000"
      ]
     },
     "execution_count": 33,
     "metadata": {},
     "output_type": "execute_result"
    }
   ],
   "source": [
    "len(list_files)"
   ]
  },
  {
   "cell_type": "code",
   "execution_count": 34,
   "metadata": {},
   "outputs": [],
   "source": [
    "labels = hosh.hoshenKoplemanLabels(img_)"
   ]
  },
  {
   "cell_type": "code",
   "execution_count": 35,
   "metadata": {},
   "outputs": [
    {
     "data": {
      "text/plain": [
       "<matplotlib.colorbar.Colorbar at 0x7fa6cbd627f0>"
      ]
     },
     "execution_count": 35,
     "metadata": {},
     "output_type": "execute_result"
    },
    {
     "data": {
      "image/png": "[encoded data removed]",
      "text/plain": [
       "<Figure size 432x288 with 2 Axes>"
      ]
     },
     "metadata": {},
     "output_type": "display_data"
    }
   ],
   "source": [
    "plt.imshow(labels)\n",
    "plt.colorbar()"
   ]
  },
  {
   "cell_type": "code",
   "execution_count": 36,
   "metadata": {},
   "outputs": [
    {
     "data": {
      "text/plain": [
       "4"
      ]
     },
     "execution_count": 36,
     "metadata": {},
     "output_type": "execute_result"
    }
   ],
   "source": [
    "np.max(labels)\n"
   ]
  },
  {
   "cell_type": "code",
   "execution_count": null,
   "metadata": {},
   "outputs": [],
   "source": []
  },
  {
   "cell_type": "code",
   "execution_count": 37,
   "metadata": {},
   "outputs": [
    {
     "data": {
      "text/plain": [
       "(array([1., 0., 0., 0., 0., 0., 0., 0., 0., 0., 0., 0., 1., 1., 0., 0., 0.,\n",
       "        0., 0., 0., 0., 0., 0., 0., 0., 0., 0., 0., 0., 1.]),\n",
       " array([4.00000000e+00, 1.08593333e+03, 2.16786667e+03, 3.24980000e+03,\n",
       "        4.33173333e+03, 5.41366667e+03, 6.49560000e+03, 7.57753333e+03,\n",
       "        8.65946667e+03, 9.74140000e+03, 1.08233333e+04, 1.19052667e+04,\n",
       "        1.29872000e+04, 1.40691333e+04, 1.51510667e+04, 1.62330000e+04,\n",
       "        1.73149333e+04, 1.83968667e+04, 1.94788000e+04, 2.05607333e+04,\n",
       "        2.16426667e+04, 2.27246000e+04, 2.38065333e+04, 2.48884667e+04,\n",
       "        2.59704000e+04, 2.70523333e+04, 2.81342667e+04, 2.92162000e+04,\n",
       "        3.02981333e+04, 3.13800667e+04, 3.24620000e+04]),\n",
       " <a list of 1 Patch objects>)"
      ]
     },
     "execution_count": 37,
     "metadata": {},
     "output_type": "execute_result"
    },
    {
     "data": {
      "image/png": "[encoded data removed]",
      "text/plain": [
       "<Figure size 432x288 with 1 Axes>"
      ]
     },
     "metadata": {},
     "output_type": "display_data"
    }
   ],
   "source": [
    "plt.hist(areaDistribution(labels), bins= 30,histtype=u'step')"
   ]
  },
  {
   "cell_type": "code",
   "execution_count": 8,
   "metadata": {},
   "outputs": [
    {
     "name": "stdout",
     "output_type": "stream",
     "text": [
      "0 th image =  0  shapes\n",
      "6 th image =  91  shapes\n",
      "12 th image =  54  shapes\n",
      "18 th image =  45  shapes\n",
      "24 th image =  35  shapes\n",
      "30 th image =  30  shapes\n",
      "36 th image =  30  shapes\n",
      "42 th image =  27  shapes\n",
      "48 th image =  25  shapes\n",
      "54 th image =  24  shapes\n",
      "60 th image =  23  shapes\n",
      "66 th image =  22  shapes\n",
      "72 th image =  21  shapes\n",
      "78 th image =  18  shapes\n",
      "84 th image =  18  shapes\n",
      "90 th image =  18  shapes\n",
      "96 th image =  17  shapes\n",
      "102 th image =  17  shapes\n",
      "108 th image =  16  shapes\n",
      "114 th image =  15  shapes\n",
      "120 th image =  16  shapes\n",
      "126 th image =  15  shapes\n",
      "132 th image =  15  shapes\n",
      "138 th image =  14  shapes\n",
      "144 th image =  14  shapes\n",
      "150 th image =  13  shapes\n",
      "156 th image =  13  shapes\n",
      "162 th image =  12  shapes\n",
      "168 th image =  11  shapes\n",
      "174 th image =  11  shapes\n",
      "180 th image =  10  shapes\n",
      "186 th image =  9  shapes\n",
      "192 th image =  10  shapes\n",
      "198 th image =  10  shapes\n",
      "204 th image =  9  shapes\n",
      "210 th image =  9  shapes\n",
      "216 th image =  9  shapes\n",
      "222 th image =  9  shapes\n",
      "228 th image =  9  shapes\n",
      "234 th image =  9  shapes\n",
      "240 th image =  8  shapes\n",
      "246 th image =  8  shapes\n",
      "252 th image =  7  shapes\n",
      "258 th image =  7  shapes\n",
      "264 th image =  7  shapes\n",
      "270 th image =  7  shapes\n",
      "276 th image =  7  shapes\n",
      "282 th image =  7  shapes\n",
      "288 th image =  7  shapes\n",
      "294 th image =  7  shapes\n",
      "300 th image =  6  shapes\n",
      "306 th image =  6  shapes\n",
      "312 th image =  6  shapes\n",
      "318 th image =  6  shapes\n",
      "324 th image =  6  shapes\n",
      "330 th image =  6  shapes\n",
      "336 th image =  6  shapes\n",
      "342 th image =  6  shapes\n",
      "348 th image =  6  shapes\n",
      "354 th image =  6  shapes\n",
      "360 th image =  6  shapes\n",
      "366 th image =  6  shapes\n",
      "372 th image =  6  shapes\n",
      "378 th image =  6  shapes\n",
      "384 th image =  6  shapes\n",
      "390 th image =  6  shapes\n",
      "396 th image =  6  shapes\n",
      "402 th image =  6  shapes\n",
      "408 th image =  6  shapes\n",
      "414 th image =  6  shapes\n",
      "420 th image =  6  shapes\n",
      "426 th image =  6  shapes\n",
      "432 th image =  6  shapes\n",
      "438 th image =  6  shapes\n",
      "444 th image =  6  shapes\n",
      "450 th image =  6  shapes\n",
      "456 th image =  6  shapes\n",
      "462 th image =  6  shapes\n",
      "468 th image =  6  shapes\n",
      "474 th image =  6  shapes\n",
      "480 th image =  6  shapes\n",
      "486 th image =  6  shapes\n",
      "492 th image =  6  shapes\n",
      "498 th image =  5  shapes\n",
      "504 th image =  5  shapes\n",
      "510 th image =  5  shapes\n",
      "516 th image =  5  shapes\n",
      "522 th image =  5  shapes\n",
      "528 th image =  5  shapes\n",
      "534 th image =  5  shapes\n",
      "540 th image =  5  shapes\n",
      "546 th image =  5  shapes\n",
      "552 th image =  5  shapes\n",
      "558 th image =  5  shapes\n",
      "564 th image =  5  shapes\n",
      "570 th image =  5  shapes\n",
      "576 th image =  5  shapes\n",
      "582 th image =  5  shapes\n",
      "588 th image =  5  shapes\n",
      "594 th image =  5  shapes\n",
      "600 th image =  5  shapes\n",
      "606 th image =  5  shapes\n",
      "612 th image =  5  shapes\n",
      "618 th image =  5  shapes\n",
      "624 th image =  5  shapes\n",
      "630 th image =  5  shapes\n",
      "636 th image =  5  shapes\n",
      "642 th image =  5  shapes\n",
      "648 th image =  5  shapes\n",
      "654 th image =  5  shapes\n",
      "660 th image =  5  shapes\n",
      "666 th image =  5  shapes\n",
      "672 th image =  5  shapes\n",
      "678 th image =  5  shapes\n",
      "684 th image =  5  shapes\n",
      "690 th image =  5  shapes\n",
      "696 th image =  5  shapes\n",
      "702 th image =  5  shapes\n",
      "708 th image =  5  shapes\n",
      "714 th image =  5  shapes\n",
      "720 th image =  5  shapes\n",
      "726 th image =  5  shapes\n",
      "732 th image =  4  shapes\n",
      "738 th image =  4  shapes\n",
      "744 th image =  4  shapes\n",
      "750 th image =  4  shapes\n",
      "756 th image =  4  shapes\n",
      "762 th image =  4  shapes\n",
      "768 th image =  4  shapes\n",
      "774 th image =  4  shapes\n",
      "780 th image =  4  shapes\n",
      "786 th image =  4  shapes\n",
      "792 th image =  4  shapes\n",
      "798 th image =  4  shapes\n",
      "804 th image =  4  shapes\n",
      "810 th image =  4  shapes\n",
      "816 th image =  4  shapes\n",
      "822 th image =  4  shapes\n",
      "828 th image =  4  shapes\n",
      "834 th image =  4  shapes\n",
      "840 th image =  4  shapes\n",
      "846 th image =  4  shapes\n",
      "852 th image =  4  shapes\n",
      "858 th image =  4  shapes\n",
      "864 th image =  4  shapes\n",
      "870 th image =  4  shapes\n",
      "876 th image =  4  shapes\n",
      "882 th image =  4  shapes\n",
      "888 th image =  4  shapes\n",
      "894 th image =  4  shapes\n",
      "900 th image =  4  shapes\n",
      "906 th image =  4  shapes\n",
      "912 th image =  4  shapes\n",
      "918 th image =  4  shapes\n",
      "924 th image =  4  shapes\n",
      "930 th image =  4  shapes\n",
      "936 th image =  4  shapes\n",
      "942 th image =  4  shapes\n",
      "948 th image =  4  shapes\n",
      "954 th image =  4  shapes\n",
      "960 th image =  4  shapes\n",
      "966 th image =  4  shapes\n",
      "972 th image =  4  shapes\n",
      "978 th image =  4  shapes\n",
      "984 th image =  4  shapes\n",
      "990 th image =  4  shapes\n",
      "996 th image =  4  shapes\n",
      "1002 th image =  4  shapes\n",
      "1008 th image =  4  shapes\n",
      "1014 th image =  4  shapes\n",
      "1020 th image =  4  shapes\n",
      "1026 th image =  4  shapes\n",
      "1032 th image =  4  shapes\n",
      "1038 th image =  4  shapes\n",
      "1044 th image =  4  shapes\n",
      "1050 th image =  4  shapes\n",
      "1056 th image =  4  shapes\n",
      "1062 th image =  4  shapes\n",
      "1068 th image =  4  shapes\n",
      "1074 th image =  4  shapes\n",
      "1080 th image =  4  shapes\n",
      "1086 th image =  4  shapes\n",
      "1092 th image =  4  shapes\n",
      "1098 th image =  4  shapes\n",
      "1104 th image =  4  shapes\n",
      "1110 th image =  4  shapes\n",
      "1116 th image =  4  shapes\n",
      "1122 th image =  4  shapes\n",
      "1128 th image =  4  shapes\n",
      "1134 th image =  4  shapes\n",
      "1140 th image =  4  shapes\n",
      "1146 th image =  4  shapes\n",
      "1152 th image =  4  shapes\n",
      "1158 th image =  4  shapes\n",
      "1164 th image =  4  shapes\n",
      "1170 th image =  4  shapes\n",
      "1176 th image =  4  shapes\n",
      "1182 th image =  4  shapes\n",
      "1188 th image =  4  shapes\n",
      "1194 th image =  4  shapes\n",
      "1200 th image =  4  shapes\n",
      "1206 th image =  4  shapes\n",
      "1212 th image =  4  shapes\n",
      "1218 th image =  4  shapes\n",
      "1224 th image =  4  shapes\n",
      "1230 th image =  4  shapes\n",
      "1236 th image =  4  shapes\n",
      "1242 th image =  4  shapes\n",
      "1248 th image =  4  shapes\n",
      "1254 th image =  4  shapes\n",
      "1260 th image =  4  shapes\n",
      "1266 th image =  4  shapes\n",
      "1272 th image =  4  shapes\n",
      "1278 th image =  4  shapes\n",
      "1284 th image =  4  shapes\n",
      "1290 th image =  4  shapes\n",
      "1296 th image =  4  shapes\n",
      "1302 th image =  4  shapes\n",
      "1308 th image =  4  shapes\n",
      "1314 th image =  4  shapes\n",
      "1320 th image =  4  shapes\n",
      "1326 th image =  4  shapes\n",
      "1332 th image =  4  shapes\n",
      "1338 th image =  4  shapes\n",
      "1344 th image =  4  shapes\n",
      "1350 th image =  4  shapes\n",
      "1356 th image =  4  shapes\n",
      "1362 th image =  4  shapes\n",
      "1368 th image =  4  shapes\n",
      "1374 th image =  4  shapes\n",
      "1380 th image =  4  shapes\n",
      "1386 th image =  4  shapes\n",
      "1392 th image =  4  shapes\n",
      "1398 th image =  4  shapes\n",
      "1404 th image =  4  shapes\n",
      "1410 th image =  4  shapes\n",
      "1416 th image =  4  shapes\n",
      "1422 th image =  4  shapes\n",
      "1428 th image =  4  shapes\n",
      "1434 th image =  4  shapes\n",
      "1440 th image =  4  shapes\n",
      "1446 th image =  4  shapes\n",
      "1452 th image =  4  shapes\n",
      "1458 th image =  4  shapes\n",
      "1464 th image =  4  shapes\n",
      "1470 th image =  4  shapes\n",
      "1476 th image =  4  shapes\n",
      "1482 th image =  4  shapes\n",
      "1488 th image =  4  shapes\n",
      "1494 th image =  4  shapes\n",
      "1500 th image =  4  shapes\n",
      "1506 th image =  4  shapes\n",
      "1512 th image =  4  shapes\n",
      "1518 th image =  4  shapes\n",
      "1524 th image =  4  shapes\n",
      "1530 th image =  4  shapes\n",
      "1536 th image =  4  shapes\n",
      "1542 th image =  4  shapes\n",
      "1548 th image =  4  shapes\n",
      "1554 th image =  4  shapes\n",
      "1560 th image =  4  shapes\n",
      "1566 th image =  4  shapes\n",
      "1572 th image =  4  shapes\n",
      "1578 th image =  4  shapes\n",
      "1584 th image =  4  shapes\n",
      "1590 th image =  4  shapes\n",
      "1596 th image =  4  shapes\n",
      "1602 th image =  4  shapes\n",
      "1608 th image =  4  shapes\n",
      "1614 th image =  4  shapes\n",
      "1620 th image =  4  shapes\n",
      "1626 th image =  4  shapes\n",
      "1632 th image =  4  shapes\n",
      "1638 th image =  4  shapes\n",
      "1644 th image =  4  shapes\n",
      "1650 th image =  4  shapes\n",
      "1656 th image =  4  shapes\n",
      "1662 th image =  4  shapes\n",
      "1668 th image =  4  shapes\n",
      "1674 th image =  4  shapes\n",
      "1680 th image =  4  shapes\n",
      "1686 th image =  4  shapes\n",
      "1692 th image =  4  shapes\n",
      "1698 th image =  4  shapes\n",
      "1704 th image =  4  shapes\n",
      "1710 th image =  4  shapes\n",
      "1716 th image =  4  shapes\n",
      "1722 th image =  4  shapes\n",
      "1728 th image =  4  shapes\n",
      "1734 th image =  4  shapes\n",
      "1740 th image =  4  shapes\n",
      "1746 th image =  4  shapes\n",
      "1752 th image =  4  shapes\n",
      "1758 th image =  4  shapes\n",
      "1764 th image =  3  shapes\n",
      "1770 th image =  3  shapes\n",
      "1776 th image =  3  shapes\n",
      "1782 th image =  3  shapes\n",
      "1788 th image =  3  shapes\n",
      "1794 th image =  3  shapes\n",
      "1800 th image =  2  shapes\n",
      "1806 th image =  2  shapes\n",
      "1812 th image =  2  shapes\n",
      "1818 th image =  2  shapes\n",
      "1824 th image =  2  shapes\n",
      "1830 th image =  2  shapes\n",
      "1836 th image =  2  shapes\n",
      "1842 th image =  2  shapes\n",
      "1848 th image =  2  shapes\n",
      "1854 th image =  2  shapes\n"
     ]
    },
    {
     "name": "stdout",
     "output_type": "stream",
     "text": [
      "1860 th image =  2  shapes\n",
      "1866 th image =  2  shapes\n",
      "1872 th image =  2  shapes\n",
      "1878 th image =  2  shapes\n",
      "1884 th image =  2  shapes\n",
      "1890 th image =  2  shapes\n",
      "1896 th image =  2  shapes\n",
      "1902 th image =  2  shapes\n",
      "1908 th image =  2  shapes\n",
      "1914 th image =  2  shapes\n",
      "1920 th image =  2  shapes\n",
      "1926 th image =  2  shapes\n",
      "1932 th image =  2  shapes\n",
      "1938 th image =  2  shapes\n",
      "1944 th image =  2  shapes\n",
      "1950 th image =  2  shapes\n",
      "1956 th image =  2  shapes\n",
      "1962 th image =  2  shapes\n",
      "1968 th image =  2  shapes\n",
      "1974 th image =  2  shapes\n",
      "1980 th image =  2  shapes\n",
      "1986 th image =  2  shapes\n",
      "1992 th image =  2  shapes\n",
      "1998 th image =  2  shapes\n"
     ]
    },
    {
     "ename": "IndexError",
     "evalue": "list index out of range",
     "output_type": "error",
     "traceback": [
      "\u001b[0;31m---------------------------------------------------------------------------\u001b[0m",
      "\u001b[0;31mIndexError\u001b[0m                                Traceback (most recent call last)",
      "\u001b[0;32m<ipython-input-8-3954925b7db2>\u001b[0m in \u001b[0;36m<module>\u001b[0;34m\u001b[0m\n\u001b[1;32m      1\u001b[0m \u001b[0mA\u001b[0m \u001b[0;34m=\u001b[0m \u001b[0;34m[\u001b[0m\u001b[0;34m]\u001b[0m\u001b[0;34m\u001b[0m\u001b[0;34m\u001b[0m\u001b[0m\n\u001b[1;32m      2\u001b[0m \u001b[0;32mfor\u001b[0m \u001b[0mi\u001b[0m \u001b[0;32min\u001b[0m \u001b[0mrange\u001b[0m\u001b[0;34m(\u001b[0m\u001b[0;36m340\u001b[0m\u001b[0;34m)\u001b[0m\u001b[0;34m:\u001b[0m\u001b[0;34m\u001b[0m\u001b[0;34m\u001b[0m\u001b[0m\n\u001b[0;32m----> 3\u001b[0;31m     \u001b[0mimg_\u001b[0m \u001b[0;34m=\u001b[0m \u001b[0mcorr\u001b[0m\u001b[0;34m.\u001b[0m\u001b[0mdat_to_numpy\u001b[0m\u001b[0;34m(\u001b[0m\u001b[0mlist_files\u001b[0m\u001b[0;34m[\u001b[0m\u001b[0mi\u001b[0m\u001b[0;34m*\u001b[0m\u001b[0;36m6\u001b[0m\u001b[0;34m]\u001b[0m\u001b[0;34m)\u001b[0m\u001b[0;34m\u001b[0m\u001b[0;34m\u001b[0m\u001b[0m\n\u001b[0m\u001b[1;32m      4\u001b[0m     \u001b[0mimg_\u001b[0m \u001b[0;34m=\u001b[0m \u001b[0mvel\u001b[0m\u001b[0;34m.\u001b[0m\u001b[0mgaussian_filter\u001b[0m\u001b[0;34m(\u001b[0m\u001b[0mimg_\u001b[0m\u001b[0;34m,\u001b[0m\u001b[0;36m4\u001b[0m\u001b[0;34m)\u001b[0m\u001b[0;34m\u001b[0m\u001b[0;34m\u001b[0m\u001b[0m\n\u001b[1;32m      5\u001b[0m     \u001b[0mimg_\u001b[0m \u001b[0;34m=\u001b[0m \u001b[0;34m(\u001b[0m\u001b[0mimg_\u001b[0m\u001b[0;34m>\u001b[0m\u001b[0;36m0.5\u001b[0m\u001b[0;34m)\u001b[0m\u001b[0;34m*\u001b[0m\u001b[0;36m1\u001b[0m\u001b[0;34m\u001b[0m\u001b[0;34m\u001b[0m\u001b[0m\n",
      "\u001b[0;31mIndexError\u001b[0m: list index out of range"
     ]
    }
   ],
   "source": [
    "A = []\n",
    "for i in range(340):\n",
    "    img_ = corr.dat_to_numpy(list_files[i*6])\n",
    "    img_ = vel.gaussian_filter(img_,4)\n",
    "    img_ = (img_>0.5)*1\n",
    "    labels = hosh.hoshenKoplemanLabels(img_)\n",
    "    print(6*i,'th image = ',np.max(labels), ' shapes')\n",
    "    A.append(np.max(labels))\n",
    "    "
   ]
  },
  {
   "cell_type": "code",
   "execution_count": 9,
   "metadata": {},
   "outputs": [
    {
     "data": {
      "text/plain": [
       "Text(0, 0.5, 'Number of ppt')"
      ]
     },
     "execution_count": 9,
     "metadata": {},
     "output_type": "execute_result"
    },
    {
     "data": {
      "image/png": "[encoded data removed]",
      "text/plain": [
       "<Figure size 432x288 with 1 Axes>"
      ]
     },
     "metadata": {},
     "output_type": "display_data"
    }
   ],
   "source": [
    "plt.plot(A[1:])\n",
    "plt.title('Number of precipitates in structure')\n",
    "plt.xlabel('Time steps later :')\n",
    "plt.ylabel('Number of ppt')"
   ]
  },
  {
   "cell_type": "code",
   "execution_count": 14,
   "metadata": {},
   "outputs": [],
   "source": [
    "def areaDistribution(labels):\n",
    "    A =[]\n",
    "    noOfLabels = np.max(labels)\n",
    "    for i in range(1,noOfLabels+1):\n",
    "        A.append(np.sum((labels==i)*1))\n",
    "    return A\n",
    "    "
   ]
  },
  {
   "cell_type": "code",
   "execution_count": 15,
   "metadata": {},
   "outputs": [
    {
     "data": {
      "text/plain": [
       "[69746, 7771]"
      ]
     },
     "execution_count": 15,
     "metadata": {},
     "output_type": "execute_result"
    }
   ],
   "source": [
    "areaDistribution(labels)"
   ]
  },
  {
   "cell_type": "markdown",
   "metadata": {},
   "source": [
    "# Use the code below to plot area change by considering centre of gravity"
   ]
  },
  {
   "cell_type": "code",
   "execution_count": 10,
   "metadata": {},
   "outputs": [],
   "source": [
    "A = []\n",
    "img_ = corr.dat_to_numpy(list_files[1999])\n",
    "img_ = vel.gaussian_filter(img_,4)\n",
    "img_ = (img_>0.5)*1\n",
    "labels_199 = hosh.hoshenKoplemanLabels(img_)\n",
    "uniqueLabels = np.unique(labels_199).tolist()\n",
    "for i in uniqueLabels[1:]:\n",
    "    A.append(hosh.precipitateCentres(labels_199,i))\n",
    "N =[]\n",
    "for i in range(50):\n",
    "    img_ = corr.dat_to_numpy(list_files[199-i])\n",
    "    img_ = vel.gaussian_filter(img_,4)\n",
    "    img_ = (img_>0.5)*1\n",
    "    labels = hosh.hoshenKoplemanLabels(img_)\n",
    "    B = []\n",
    "    for j in range(12,13):\n",
    "        labelNumberForThisImage = labels[A[j][0]][A[j][1]]\n",
    "        numberOfPixels = np.sum((labels==labelNumberForThisImage)*1)\n",
    "        B.append(numberOfPixels)\n",
    "    N.append(B)\n",
    "    print(i)\n",
    "plt.rcParams[\"figure.figsize\"] = (20,20)\n",
    "Z = []\n",
    "for i in range(50):\n",
    "    Z.append(i+150)\n",
    "    \n",
    "for ii in range(50):\n",
    "    graph = []\n",
    "    for jj in range(50):\n",
    "        graph.append(N[jj][ii])\n",
    "    graph.reverse()\n",
    "    plt.plot(Z,graph)\n",
    "plt.title('Area change for each precipitate as time increases')\n",
    "plt.ylabel('Area')\n",
    "plt.xlabel('timestep x 500')\n",
    "      \n"
   ]
  }
 ],
 "metadata": {
  "kernelspec": {
   "display_name": "env_adi",
   "language": "python",
   "name": "env_adi"
  },
  "language_info": {
   "codemirror_mode": {
    "name": "ipython",
    "version": 3
   },
   "file_extension": ".py",
   "mimetype": "text/x-python",
   "name": "python",
   "nbconvert_exporter": "python",
   "pygments_lexer": "ipython3",
   "version": "3.6.10"
  }
 },
 "nbformat": 4,
 "nbformat_minor": 4
}
